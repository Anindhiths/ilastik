{
 "cells": [
  {
   "cell_type": "markdown",
   "id": "pharmaceutical-yesterday",
   "metadata": {},
   "source": [
    "## Convert image data to h5 for ilastik\n",
    "\n",
    "Converting your image data to hdf5 will ensure ilastik can access it in the most optimal way (block-wise).\n",
    "In this notebook, we show you how to do it from Python, which is useful if you're doing some pre-processing there.\n",
    "There are alternatives to convert your data to hdf5:\n",
    "\n",
    "* When loading files, you can [specify to save them to the project file](https://www.ilastik.org/documentation/basics/dataselection#properties), which will convert to hdf5 in ilastik.\n",
    "  An additional benefit of this is that your project file becomes fully portable if all images are saved to it.\n",
    "* You can also load your data into Fiji and use our [Fiji plugin](https://www.ilastik.org/documentation/fiji_export/plugin) to convert your data to hdf5."
   ]
  },
  {
   "cell_type": "code",
   "execution_count": null,
   "id": "common-counter",
   "metadata": {},
   "outputs": [],
   "source": [
    "import h5py\n",
    "import numpy\n",
    "import vigra\n",
    "# add additional imports to read/pre-process your data"
   ]
  },
  {
   "cell_type": "markdown",
   "id": "diverse-dialogue",
   "metadata": {},
   "source": [
    "We skip the loading part here, because this will vary for different file formats.\n",
    "With `tifffile` for example you could have something like\n",
    "\n",
    "```Python\n",
    "image = tifffile.imread(\"/path/to/myimage.tiff\")\n",
    "```\n",
    "\n",
    "For this example we generate some random data:"
   ]
  },
  {
   "cell_type": "code",
   "execution_count": null,
   "id": "genetic-native",
   "metadata": {},
   "outputs": [],
   "source": [
    "# generate 5 dimensional data\n",
    "data_shape = (64, 512, 384, 10, 4)  # z, y, x, t, c\n",
    "image = numpy.random.randint(0, 256, data_shape, dtype=\"uint8\")\n",
    "# specify, axistags, this helps ilastik to interpret the data correctly\n",
    "# order is the same as in the generated shape\n",
    "# ilastik uses the vigra library for handling axistags, internally:\n",
    "axistags = vigra.defaultAxistags(\"zyxtc\")"
   ]
  },
  {
   "cell_type": "code",
   "execution_count": null,
   "id": "strange-precipitation",
   "metadata": {},
   "outputs": [],
   "source": [
    "# write out the file\n",
    "output_filename = \"output.h5\"\n",
    "with h5py.File(\"output.h5\", \"a\") as f:\n",
    "    ds = f.create_dataset(name=\"mydataset\", data=image, chunks=(64, 64, 64, 1, 1))\n",
    "    ds.attrs[\"axistags\"] = axistags.toJSON()"
   ]
  },
  {
   "cell_type": "markdown",
   "id": "rocky-season",
   "metadata": {},
   "source": [
    "Note on chunks: This is the most important part to get the performance boost in ilastik.\n",
    "In hdf5, data can be accessed in blocks (specified via the `chunks` keyword-argument in `create_dataset`.\n",
    "It follows the same axis order as the image data.\n",
    "Since ilastik usually processes timepoints and channels independently, we set the chunk size there to `1`.\n",
    "For 3D data `64` is a sensible choice along the spacial axes.\n",
    "For 2D data we recommend using `256` alon `x` and `y`."
   ]
  }
 ],
 "metadata": {
  "kernelspec": {
   "display_name": "Python 3",
   "language": "python",
   "name": "python3"
  },
  "language_info": {
   "codemirror_mode": {
    "name": "ipython",
    "version": 3
   },
   "file_extension": ".py",
   "mimetype": "text/x-python",
   "name": "python",
   "nbconvert_exporter": "python",
   "pygments_lexer": "ipython3",
   "version": "3.9.1"
  }
 },
 "nbformat": 4,
 "nbformat_minor": 5
}
